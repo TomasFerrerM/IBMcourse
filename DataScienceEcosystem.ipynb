{
 "cells": [
  {
   "cell_type": "markdown",
   "id": "2736891b",
   "metadata": {},
   "source": [
    "# Data Science Tools and Ecosystem\n",
    "In this notebook, Data Science Tools and Ecosystem are summarized."
   ]
  },
  {
   "cell_type": "markdown",
   "id": "70ca4faa",
   "metadata": {},
   "source": [
    "Some of the popular languages that Data Scientists use are:\n",
    "- Python\n",
    "- R\n",
    "- Julia\n",
    "\n",
    "Some of the commonly used libraries used by Data Scientists include:\n",
    "- Pandas\n",
    "- Numpy\n",
    "- Scikit-learn"
   ]
  },
  {
   "cell_type": "markdown",
   "id": "1e8488e2",
   "metadata": {},
   "source": [
    "|Data science tools|\n",
    "|------------------|\n",
    "|Jupyter Notebook|\n",
    "|VS code|\n",
    "|Rstudio|"
   ]
  },
  {
   "cell_type": "markdown",
   "id": "624ff3ef",
   "metadata": {},
   "source": [
    "Below are a few examples of evaluating arithmetic expressions in Python"
   ]
  },
  {
   "cell_type": "code",
   "execution_count": 2,
   "id": "dc415c3f",
   "metadata": {},
   "outputs": [
    {
     "data": {
      "text/plain": [
       "17"
      ]
     },
     "execution_count": 2,
     "metadata": {},
     "output_type": "execute_result"
    }
   ],
   "source": [
    "# This a simple arithmetic expression to mutiply then add integers\n",
    "(3*4)+5"
   ]
  },
  {
   "cell_type": "code",
   "execution_count": 3,
   "id": "aff33fd0",
   "metadata": {},
   "outputs": [
    {
     "data": {
      "text/plain": [
       "3.3333333333333335"
      ]
     },
     "execution_count": 3,
     "metadata": {},
     "output_type": "execute_result"
    }
   ],
   "source": [
    "# This will convert 200 minutes to hours by diving by 60\n",
    "200/60"
   ]
  },
  {
   "cell_type": "markdown",
   "id": "4b3becd2",
   "metadata": {},
   "source": [
    "**Objectives:**\n",
    "- Python\n",
    "- R\n",
    "- Julia"
   ]
  },
  {
   "cell_type": "markdown",
   "id": "1f56e6b8",
   "metadata": {},
   "source": [
    "## Tomas Ferrer"
   ]
  },
  {
   "cell_type": "code",
   "execution_count": null,
   "id": "cc173f33",
   "metadata": {},
   "outputs": [],
   "source": []
  }
 ],
 "metadata": {
  "kernelspec": {
   "display_name": "Python 3 (ipykernel)",
   "language": "python",
   "name": "python3"
  },
  "language_info": {
   "codemirror_mode": {
    "name": "ipython",
    "version": 3
   },
   "file_extension": ".py",
   "mimetype": "text/x-python",
   "name": "python",
   "nbconvert_exporter": "python",
   "pygments_lexer": "ipython3",
   "version": "3.10.9"
  }
 },
 "nbformat": 4,
 "nbformat_minor": 5
}
